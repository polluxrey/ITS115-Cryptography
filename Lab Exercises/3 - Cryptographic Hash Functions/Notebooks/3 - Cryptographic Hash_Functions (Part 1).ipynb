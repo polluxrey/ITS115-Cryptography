{
  "nbformat": 4,
  "nbformat_minor": 0,
  "metadata": {
    "colab": {
      "provenance": []
    },
    "kernelspec": {
      "name": "python3",
      "display_name": "Python 3"
    },
    "language_info": {
      "name": "python"
    }
  },
  "cells": [
    {
      "cell_type": "markdown",
      "source": [
        "**Name:**\n",
        "\n",
        "**Section:**\n",
        "\n",
        "---"
      ],
      "metadata": {
        "id": "8PG9pubuqPCi"
      }
    },
    {
      "cell_type": "markdown",
      "source": [
        "## **Step 1: Check CPU Information Using `lscpu`**\n",
        "*   **Click the code cell** and press **Ctrl+Enter** to run the command.\n",
        "*   You should see that this machine uses an **Intel(R) Xeon(R) processor.**\n",
        "*   **Verifying your CPU is important** because **different processors** (for example, those with SHA hardware acceleration) **might produce different results.**"
      ],
      "metadata": {
        "id": "QGmP9ZmxSWjU"
      }
    },
    {
      "cell_type": "code",
      "execution_count": null,
      "metadata": {
        "id": "IF1qU1jtOECL"
      },
      "outputs": [],
      "source": [
        "!lscpu"
      ]
    },
    {
      "cell_type": "markdown",
      "source": [
        "## **Step 2: Install `blake3`**\n",
        "\n",
        "*   Run the command **`pip install blake3`** to add the package.\n",
        "*   The default `hashlib` library, which will be used for **benchmarking cryptographic hash functions**, doesn’t include `blake3`."
      ],
      "metadata": {
        "id": "IcHUsM2sh46l"
      }
    },
    {
      "cell_type": "code",
      "source": [
        "!pip install blake3"
      ],
      "metadata": {
        "id": "IpzFPatSDBbe"
      },
      "execution_count": null,
      "outputs": []
    },
    {
      "cell_type": "markdown",
      "source": [
        "## **Step 3: Benchmark Hashing Algorithms**\n",
        "\n",
        "*   **Execute the Python script** below to **measure the performance** of various hashing algorithms: **MD5, SHA1, SHA-256, SHA3-512, BLAKE2b, and BLAKE3.**\n",
        "*   The script runs each hashing algorithm **five times on input sizes ranging from 1 kB to 1 GB** and displays the **average hashing time** for each."
      ],
      "metadata": {
        "id": "h1lxv2OLiboO"
      }
    },
    {
      "cell_type": "code",
      "source": [
        "import hashlib\n",
        "import time\n",
        "import os\n",
        "import blake3\n",
        "import statistics\n",
        "import matplotlib.pyplot as plt\n",
        "from prettytable import PrettyTable\n",
        "\n",
        "def format_size(size):\n",
        "    \"\"\"Convert bytes to human-readable format.\"\"\"\n",
        "    units = [\"B\", \"KB\", \"MB\", \"GB\"]\n",
        "    index = 0\n",
        "    while size >= 1024 and index < len(units) - 1:\n",
        "        size /= 1024.0\n",
        "        index += 1\n",
        "    return f\"{size:.1f} {units[index]}\"\n",
        "\n",
        "def benchmark_hashing(algorithms, sizes, iterations=5):\n",
        "    \"\"\"Benchmark multiple hashing algorithms and return results as a dictionary.\"\"\"\n",
        "    results = {}  # Store all algorithm results\n",
        "    sizes_labels = [format_size(size) for size in sizes]  # Store labels once\n",
        "\n",
        "    for algorithm in algorithms:\n",
        "        print(f\"\\nBenchmarking {algorithm.upper()} on CPU ({iterations} iterations)...\\n\")\n",
        "\n",
        "        if algorithm == \"blake3\":\n",
        "            hasher = blake3.blake3\n",
        "        else:\n",
        "            hasher = getattr(hashlib, algorithm)\n",
        "\n",
        "        table = PrettyTable()\n",
        "        table.field_names = [\"Size\", \"Avg Time (s)\"]\n",
        "        table.align = \"r\"\n",
        "\n",
        "        times = []  # Store times for this algorithm\n",
        "\n",
        "        for size in sizes:\n",
        "            data = os.urandom(size)\n",
        "            times_list = []\n",
        "\n",
        "            for _ in range(iterations):\n",
        "                start = time.time()\n",
        "                hasher(data).digest()\n",
        "                end = time.time()\n",
        "                times_list.append(end - start)\n",
        "\n",
        "            avg_time = statistics.mean(times_list)\n",
        "            table.add_row([format_size(size), f\"{avg_time:.6f}\"])\n",
        "\n",
        "            times.append(avg_time)\n",
        "\n",
        "        print(table)\n",
        "        results[algorithm] = times  # Store algorithm results\n",
        "\n",
        "    return sizes_labels, results  # Return size labels and results\n",
        "\n",
        "def plot_all_graphs(sizes_labels, results):\n",
        "    \"\"\"Plots all hashing algorithms in one graph.\"\"\"\n",
        "    if not results:\n",
        "        print(\"No data found. Run benchmark_hashing() first.\")\n",
        "        return\n",
        "\n",
        "    plt.figure(figsize=(10, 5))\n",
        "\n",
        "    # Plot each algorithm's results\n",
        "    for algorithm, times in results.items():\n",
        "        plt.plot(sizes_labels, times, marker='o', linestyle='-', label=algorithm.upper())\n",
        "\n",
        "    plt.xlabel(\"File Size\")\n",
        "    plt.ylabel(\"Avg Time (s)\")\n",
        "    plt.title(\"Hashing Performance Comparison\")\n",
        "    plt.yscale(\"log\")  # Log scale for better visualization\n",
        "    plt.legend()\n",
        "    plt.grid(True)\n",
        "    plt.show()\n",
        "\n",
        "# Define test sizes\n",
        "sizes = [\n",
        "    1024, 10240, 102400,                # Small files\n",
        "    1048576, 10485760, 52428800,        # Medium files\n",
        "    104857600, 524288000, 1073741824    # Large files\n",
        "]\n",
        "\n",
        "# List of algorithms to benchmark\n",
        "algorithms = [\"md5\", \"sha1\", \"sha256\", \"sha3_512\", \"blake2b\", \"blake3\"]\n",
        "\n",
        "# Number of iterations per test\n",
        "num_iterations = 5\n",
        "\n",
        "# Run benchmark and store results\n",
        "sizes_labels, results = benchmark_hashing(algorithms, sizes, num_iterations)"
      ],
      "metadata": {
        "id": "z-73hW66P1yI"
      },
      "execution_count": null,
      "outputs": []
    },
    {
      "cell_type": "markdown",
      "source": [
        "## **Step 4: Visualize Performance**\n",
        "\n",
        "*   Run the code cell to create a **line graph** showing the **performance of each hashing algorithm.**"
      ],
      "metadata": {
        "id": "Z5Kr9ZQxhq08"
      }
    },
    {
      "cell_type": "code",
      "source": [
        "plot_all_graphs(sizes_labels, results)"
      ],
      "metadata": {
        "id": "JlLTuC-JtHY5"
      },
      "execution_count": null,
      "outputs": []
    },
    {
      "cell_type": "markdown",
      "source": [
        "## **Step 5: Analyze the Results**\n",
        "\n",
        "Based on your results, answer the following questions **CLEARLY AND COMPLETELY**:\n",
        "\n",
        "1.   Which hashing algorithm was the **slowest**?\n",
        "\n",
        "> *Answer the question by editing this text cell.*\n",
        "\n",
        "2.   Which hashing algorithm was the **fastest**?\n",
        "\n",
        "> *Answer the question by editing this text cell.*\n",
        "\n",
        "3.   The documentation states that [BLAKE2](https://www.blake2.net/) and [BLAKE3](https://github.com/BLAKE3-team/BLAKE3) are \"faster than MD5, SHA-1, SHA-2, and SHA-3, yet as secure as the latest standard SHA-3.\" **How does your performance data support this statement?** *Consider the overall performance of BLAKE2b and BLAKE3.*\n",
        "\n",
        "> *Answer the question by editing this text cell.*"
      ],
      "metadata": {
        "id": "BUslsZH_is-T"
      }
    },
    {
      "cell_type": "markdown",
      "source": [
        "## **Step 6: Save, Share, and Submit**\n",
        "\n",
        "1.   Save the notebook.\n",
        "2.   Share and set **General Access** to **\"Anyone with the link.\"**\n",
        "3.   Copy the link and submit it on Google Classroom."
      ],
      "metadata": {
        "id": "KvDPficQoE5Y"
      }
    }
  ]
}