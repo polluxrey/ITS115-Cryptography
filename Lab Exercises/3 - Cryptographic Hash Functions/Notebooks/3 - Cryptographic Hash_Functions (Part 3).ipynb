{
  "nbformat": 4,
  "nbformat_minor": 0,
  "metadata": {
    "colab": {
      "provenance": []
    },
    "kernelspec": {
      "name": "python3",
      "display_name": "Python 3"
    },
    "language_info": {
      "name": "python"
    }
  },
  "cells": [
    {
      "cell_type": "markdown",
      "source": [
        "**Name:**\n",
        "\n",
        "**Section:**\n",
        "\n",
        "---"
      ],
      "metadata": {
        "id": "DcngYV2b7T9r"
      }
    },
    {
      "cell_type": "markdown",
      "source": [
        "# **bcrpyt**\n",
        "* Cryptographic Hash Functions (CHFs) are used not just for file verification but also for **secure password storage**.\n",
        "* A basic approach to authentication is **storing usernames and passwords in a database**.\n",
        "* When a user logs in, the server checks if the provided credentials match the stored ones.\n",
        "* However, **storing passwords in plaintext is risky**—if hackers access the database, they can steal every password.\n",
        "* A safer method is **hashing**, which converts passwords into irreversible data, making them unreadable even if stolen.\n",
        "* Many CHFs, like **SHA-2** and **SHA-3**, are **designed for speed**.\n",
        "* However, **if a hashing function is too fast, attackers can quickly brute-force millions or even billions of passwords using modern hardware.**\n",
        "* **For password security, we need a slow, adaptive hashing function that can be adjusted over time as hardware improves.**\n",
        "* **`bcrypt` was designed for this purpose**. Its slow hashing process limits the number of guesses an attacker can make per second, making brute-force attacks much harder.\n",
        "\n",
        "**In this lab exercise, we will explore how bcrypt hashes passwords by generating salts, examining its work factor, measuring hashing speeds for different values, and analyzing the trade-off between security and performance.**"
      ],
      "metadata": {
        "id": "Yh34J6X5yqzh"
      }
    },
    {
      "cell_type": "markdown",
      "source": [
        "## **Step 1: Install and Import**\n",
        "\n",
        "* Install and import the `bcrypt` module."
      ],
      "metadata": {
        "id": "YeUGWfXwLedZ"
      }
    },
    {
      "cell_type": "code",
      "execution_count": null,
      "metadata": {
        "id": "26PPFo-huFtl"
      },
      "outputs": [],
      "source": [
        "!pip install bcrypt"
      ]
    },
    {
      "cell_type": "code",
      "source": [
        "import bcrypt"
      ],
      "metadata": {
        "id": "1uuP7pR0v1HY"
      },
      "execution_count": null,
      "outputs": []
    },
    {
      "cell_type": "markdown",
      "source": [
        "## **Step 2: Enter a Password**\n",
        "\n",
        "* Input a password in the format: `<Last_Name>_<First_Name>_<Student_Number>`.\n",
        "* **Remember to denote it as a binary string by prefixing with `b`.**"
      ],
      "metadata": {
        "id": "oQeq7qEpLtup"
      }
    },
    {
      "cell_type": "code",
      "source": [
        "password = b'Rey_Pollux_25B1234'"
      ],
      "metadata": {
        "id": "D28EzOSnuyEz"
      },
      "execution_count": null,
      "outputs": []
    },
    {
      "cell_type": "code",
      "source": [
        "# Print the password\n",
        "print(f\"Password in plaintext: {password}\")"
      ],
      "metadata": {
        "id": "maHoGYHnMY9r"
      },
      "execution_count": null,
      "outputs": []
    },
    {
      "cell_type": "markdown",
      "source": [
        "## **Step 3: Generate a Salt**\n",
        "\n",
        "* A **salt** is an **additional data added during password hashing**.\n",
        "* Although you can create a salt manually, it's recommended to use the `gensalt()` method for a **secure, pseudo-random salt.**\n",
        "* bcrypt enforces security best practices by **requiring a salt in the hashing process**, protecting against [rainbow table attacks](https://capec.mitre.org/data/definitions/55.html)."
      ],
      "metadata": {
        "id": "EgQHNt1pMu_S"
      }
    },
    {
      "cell_type": "code",
      "source": [
        "salt = bcrypt.gensalt()"
      ],
      "metadata": {
        "id": "gs7BksZhvwtL"
      },
      "execution_count": null,
      "outputs": []
    },
    {
      "cell_type": "code",
      "source": [
        "# Print the generated salt\n",
        "print(f\"Generated salt: {salt}\")"
      ],
      "metadata": {
        "id": "BTt2Hvjsv3Lp"
      },
      "execution_count": null,
      "outputs": []
    },
    {
      "cell_type": "markdown",
      "source": [
        "## **Step 4: Hash Your Password**\n",
        "\n",
        "* Combine your password with the generated salt and hash them together."
      ],
      "metadata": {
        "id": "IzKXU0ucQl9O"
      }
    },
    {
      "cell_type": "code",
      "source": [
        "hash = bcrypt.hashpw(password, salt)"
      ],
      "metadata": {
        "id": "PTVm7TUCynIg"
      },
      "execution_count": null,
      "outputs": []
    },
    {
      "cell_type": "code",
      "source": [
        "# Print the hash\n",
        "print(f\"Hash: {hash}\")"
      ],
      "metadata": {
        "id": "VSykmFSVRLZ4"
      },
      "execution_count": null,
      "outputs": []
    },
    {
      "cell_type": "markdown",
      "source": [
        "## **Step 5: Verify the Password**\n",
        "\n",
        "* Check that your **original password matches the hashed version.**"
      ],
      "metadata": {
        "id": "t3cTnT7XQ0z_"
      }
    },
    {
      "cell_type": "code",
      "source": [
        "# Enter your password\n",
        "entered_password = b'Rey_Pollux_25B1234'"
      ],
      "metadata": {
        "id": "36oSCsiuQ8b8"
      },
      "execution_count": null,
      "outputs": []
    },
    {
      "cell_type": "code",
      "source": [
        "# Enter the generated hash\n",
        "hash = b'$2b$12$4cNZmETD1i/V41To/DITXebtqPzQbFLJ9l9nzy40Py28WchYpbrle'"
      ],
      "metadata": {
        "id": "2xNDWsgIRTz9"
      },
      "execution_count": null,
      "outputs": []
    },
    {
      "cell_type": "code",
      "source": [
        "bcrypt.checkpw(entered_password, hash)"
      ],
      "metadata": {
        "id": "iDKaa8jQRF-t"
      },
      "execution_count": null,
      "outputs": []
    },
    {
      "cell_type": "markdown",
      "source": [
        "## **Step 6: Test with a Wrong Password**\n",
        "\n",
        "* Try an incorrect password to ensure the verification returns `False`."
      ],
      "metadata": {
        "id": "rQcTi42wR0Mw"
      }
    },
    {
      "cell_type": "code",
      "source": [
        "# Enter your password\n",
        "entered_password = b'Rey_Pollux_25B0000'"
      ],
      "metadata": {
        "id": "T3izahBgSHoa"
      },
      "execution_count": null,
      "outputs": []
    },
    {
      "cell_type": "code",
      "source": [
        "# Enter the generated hash\n",
        "hash = b'$2b$12$4cNZmETD1i/V41To/DITXebtqPzQbFLJ9l9nzy40Py28WchYpbrle'"
      ],
      "metadata": {
        "id": "hwPCrc3qSOvW"
      },
      "execution_count": null,
      "outputs": []
    },
    {
      "cell_type": "code",
      "source": [
        "bcrypt.checkpw(entered_password, hash)"
      ],
      "metadata": {
        "id": "mE8uogVBSQ9q"
      },
      "execution_count": null,
      "outputs": []
    },
    {
      "cell_type": "markdown",
      "source": [
        "## Step 7: Testing with Different Cost Factors\n",
        "\n",
        "* The **work factor** in `bcrypt` determines the **number of iterations (2^n) for salt generation, affecting the hash computation time.**\n",
        "* It should be **set as high as possible without slowing user experience or requiring costly hardware upgrades.**\n",
        "* The default work factor (rounds) in `bcrypt.gensalt` is **12**, meaning bcrypt performs 2^12 (4096) iterations to geneate a salt.\n",
        "\n",
        "To analyze performance, we will test the hashing speed for work factors ranging from **10 to 20**. This will help assess the **trade-off between security and efficiency**, as higher work factors enhance security but increase processing time."
      ],
      "metadata": {
        "id": "wcv553LPp95Z"
      }
    },
    {
      "cell_type": "code",
      "source": [
        "# Input a password in the format: `<Last_Name>_<First_Name>_<Student_Number>`.\n",
        "password = b\"Rey_Pollux_251234\""
      ],
      "metadata": {
        "id": "09Cnpzk31g4y"
      },
      "execution_count": null,
      "outputs": []
    },
    {
      "cell_type": "code",
      "source": [
        "import time\n",
        "\n",
        "# Test different cost values (higher cost means more computation)\n",
        "work_factors = [10, 11, 12, 13, 14, 15, 16, 17, 18, 19, 20]\n",
        "\n",
        "for cost in work_factors:\n",
        "    salt = bcrypt.gensalt(rounds=cost)  # Generate salt with given cost factor\n",
        "    start_time = time.time()  # Start timer\n",
        "    hash = bcrypt.hashpw(password, salt)  # Hash password\n",
        "    end_time = time.time()  # End timer\n",
        "    time_taken = end_time - start_time  # Calculate duration\n",
        "    print(f\"Cost: {cost}, Time Taken: {time_taken:.4f} seconds\")"
      ],
      "metadata": {
        "id": "fw3DDnH1wwD0"
      },
      "execution_count": null,
      "outputs": []
    },
    {
      "cell_type": "markdown",
      "source": [
        "* You should observe that the higher the work factor, the slower the hashing process.\n",
        "* As a general rule, calculating a hash should take **less than one second**.\n",
        "\n",
        "Let us hash a password with a work factor of 20 and see how long it takes to verify it."
      ],
      "metadata": {
        "id": "quXoOMKh2ZTn"
      }
    },
    {
      "cell_type": "code",
      "source": [
        "# Input a password in the format: `<Last_Name>_<First_Name>_<Student_Number>`.\n",
        "password = b'Rey_Pollux_25B1234'"
      ],
      "metadata": {
        "id": "N5a9OimR4bFt"
      },
      "execution_count": null,
      "outputs": []
    },
    {
      "cell_type": "code",
      "source": [
        "import time\n",
        "\n",
        "salt = bcrypt.gensalt(rounds=20)  # Generate salt with work factor of 20\n",
        "start_time = time.time()  # Start timer\n",
        "print(\"Hashing password...\")\n",
        "hash = bcrypt.hashpw(password, salt)  # Hash password\n",
        "end_time = time.time()  # End timer\n",
        "time_taken = end_time - start_time  # Calculate duration\n",
        "print(f\"Hashing Time: {time_taken:.4f} seconds\")"
      ],
      "metadata": {
        "id": "9BKRruwY4sMH"
      },
      "execution_count": null,
      "outputs": []
    },
    {
      "cell_type": "code",
      "source": [
        "start_time = time.time()  # Start timer\n",
        "print(\"Verifying password...\")\n",
        "bcrypt.checkpw(password, hash)\n",
        "end_time = time.time()  # End timer\n",
        "time_taken = end_time - start_time  # Calculate duration\n",
        "print(f\"Verification Time: {time_taken:.4f} seconds\")"
      ],
      "metadata": {
        "id": "QNkh6hlE4tut"
      },
      "execution_count": null,
      "outputs": []
    },
    {
      "cell_type": "markdown",
      "source": [
        "* You should observe that the password verification process **took a significant amount of time**.\n",
        "* The `bcrypt` work factor used here is **IMPRACTICAL** for storing passwords and verifying them during website login."
      ],
      "metadata": {
        "id": "RSGaXidA6O2D"
      }
    },
    {
      "cell_type": "markdown",
      "source": [
        "## **Step 8: Answer the Questions**\n",
        "\n",
        "1. In **Step 4**, what hash was generated?\n",
        "\n",
        "> *Answer the question by editing this text cell.*\n",
        "\n",
        "Compare your generated hash with the information on [this website](https://en.wikipedia.org/wiki/Bcrypt) to analyze its components. Then, answer questions 2 to 4.\n",
        "\n",
        "2. What does **`$2b$`** represent in the generated hash?\n",
        "\n",
        "> *Answer the question by editing this text cell.*\n",
        "\n",
        "3. What does **`12`** represent in the generated hash?\n",
        "\n",
        "> *Answer the question by editing this text cell.*\n",
        "\n",
        "4. What is the **base-64 encoding of the input salt** from your generated hash?\n",
        "\n",
        "> *Answer the question by editing this text cell.*\n",
        "\n",
        "5. What is the **base-64 encoding of the first 23 bytes of the computed 24-byte hash**?\n",
        "\n",
        "> *Answer the question by editing this text cell.*\n",
        "\n",
        "6. bcrypt enforces security best practices by requiring a salt in the hashing process, protecting against **rainbow table attacks**. According to the information on [this website](https://capec.mitre.org/data/definitions/55.html), what is a rainbow table attack? **Copy the exact definition from the site.**\n",
        "\n",
        "> *Answer the question by editing this text cell.*"
      ],
      "metadata": {
        "id": "j_1FTiK17y7C"
      }
    }
  ]
}