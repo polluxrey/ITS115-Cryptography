{
  "nbformat": 4,
  "nbformat_minor": 0,
  "metadata": {
    "colab": {
      "provenance": []
    },
    "kernelspec": {
      "name": "python3",
      "display_name": "Python 3"
    },
    "language_info": {
      "name": "python"
    }
  },
  "cells": [
    {
      "cell_type": "markdown",
      "source": [
        "**Name:**\n",
        "\n",
        "**Section:**\n",
        "\n",
        "---"
      ],
      "metadata": {
        "id": "hKx9cgL0qb0Z"
      }
    },
    {
      "cell_type": "markdown",
      "source": [
        "## **Step 1: Download and Edit the Word files**\n",
        "\n",
        "* Download `Original.docx` and `Tampered.docx` from the provided [Google Drive link](https://drive.google.com/drive/folders/1k_QcfKPENyOvQAyxczAm6rkfZleVcpqX?usp=sharing).\n",
        "* Enter your **name** and **section** in both files.\n",
        "* **Save them as PDFs using the same filenames.**\n",
        "\n"
      ],
      "metadata": {
        "id": "Nt2OLUfMqvR5"
      }
    },
    {
      "cell_type": "markdown",
      "source": [
        "## **Step 2: Upload the Original and Tampered PDFs**\n",
        "\n",
        "* Click the **folder icon** in the **left sidebar.**\n",
        "* In the current directory, upload **\"Original.pdf\"** and **\"Tampered.pdf\".**\n",
        "* **Ensure the files appear in the folder.** If not, click the **refresh button** or **try uploading them again.**"
      ],
      "metadata": {
        "id": "0fmsd32QOKXO"
      }
    },
    {
      "cell_type": "markdown",
      "source": [
        "## **Step 3: Check the SHA-1 Hash of the PDFs**\n",
        "\n",
        "* Run the command **`sha1sum Original.pdf Tampered.pdf`** to **generate the SHA-1 hashes.**\n",
        "* Since the **files are different**, their **hashes will likely be different.**\n"
      ],
      "metadata": {
        "id": "GVATXs-NQDFW"
      }
    },
    {
      "cell_type": "code",
      "source": [
        "!sha1sum Original.pdf Tampered.pdf"
      ],
      "metadata": {
        "id": "-CAGnNJOQLKk"
      },
      "execution_count": null,
      "outputs": []
    },
    {
      "cell_type": "markdown",
      "source": [
        "## **Step 4: Download the Python Script for SHA-1 Collision**\n",
        "\n",
        "* Download **`collide.py`** from the GitHub repository `sha1collider` by `nneonneo`.\n",
        "* This script **takes the two input PDFs** and **creates new PDF files that share the same SHA-1 hash** despite having different content.\n",
        "* This demonstrates a **collision in the SHA-1 hashing algorithm**, highlighting its vulnerabilities.\n",
        "* **Ensure the script appears in the folder.** If not, click the **refresh button** or **try running the script again.**"
      ],
      "metadata": {
        "id": "01Hkkn4pe6ES"
      }
    },
    {
      "cell_type": "code",
      "source": [
        "!wget https://raw.githubusercontent.com/nneonneo/sha1collider/refs/heads/master/collide.py"
      ],
      "metadata": {
        "id": "IrEbzcIqe5w-"
      },
      "execution_count": null,
      "outputs": []
    },
    {
      "cell_type": "markdown",
      "source": [
        "## **Step 5: Install Required Dependencies**\n",
        "\n",
        "* The Python script needs **Ghostscript and TurboJPEG**, which are not pre-installed in Google Colab.\n",
        "* **Run the following commands to install them.**"
      ],
      "metadata": {
        "id": "pK_cLUT_Nplk"
      }
    },
    {
      "cell_type": "code",
      "source": [
        "!apt-get install ghostscript"
      ],
      "metadata": {
        "id": "RQDd_DNJI-5O"
      },
      "execution_count": null,
      "outputs": []
    },
    {
      "cell_type": "code",
      "source": [
        "!apt install libjpeg-turbo-progs"
      ],
      "metadata": {
        "id": "Zlf55npzJYob"
      },
      "execution_count": null,
      "outputs": []
    },
    {
      "cell_type": "markdown",
      "source": [
        "## **Step 6: Run the Python Script**\n",
        "\n",
        "* Run **`collide.py`** to generate **new PDFs with the same SHA-1 hash** using `Original.pdf` and `Tampered.pdf`.\n",
        "* After running the script, you should see two new files in your directory: **`out-Original.pdf`** and **`out-Tampered.pdf`**."
      ],
      "metadata": {
        "id": "JcnJlfKnhzlH"
      }
    },
    {
      "cell_type": "code",
      "execution_count": null,
      "metadata": {
        "id": "-59Ny0oeFPfd"
      },
      "outputs": [],
      "source": [
        "!python collide.py --progressive Original.pdf Tampered.pdf"
      ]
    },
    {
      "cell_type": "markdown",
      "source": [
        "## **Step 7: Download the New PDFs**\n",
        "\n",
        "* Download `out-Original.pdf` and `out-Tampered.pdf`.\n",
        "* Confirm that these **files match the content of the originals.**"
      ],
      "metadata": {
        "id": "5QDm0u0Di9Sl"
      }
    },
    {
      "cell_type": "markdown",
      "source": [
        "## **Step 8: Check the SHA-1 Hash of the New PDFs**\n",
        "\n",
        "* Run the command **`sha1sum out-Original.pdf out-Tampered.pdf`** to **generate the SHA-1 hashes.**\n",
        "* The files should have the **same hash value.**"
      ],
      "metadata": {
        "id": "1IYcBKgXj-xe"
      }
    },
    {
      "cell_type": "code",
      "source": [
        "!sha1sum out-Original.pdf out-Tampered.pdf"
      ],
      "metadata": {
        "id": "YpC4qMzDHzdo"
      },
      "execution_count": null,
      "outputs": []
    },
    {
      "cell_type": "markdown",
      "source": [
        "## **Step 9: Upload to Google Drive**\n",
        "\n",
        "* **If the hashes match, upload the files to Google Drive and share the links.**\n",
        "\n"
      ],
      "metadata": {
        "id": "X4_1zt1mltOF"
      }
    },
    {
      "cell_type": "markdown",
      "source": [
        "## **Step 10: Answer the Questions**\n",
        "\n",
        "1. What is the **generated hash** of `Original.pdf`?\n",
        "\n",
        "> *Answer the question by editing this text cell.*\n",
        "\n",
        "2. What is the **generated hash** of `Tampered.pdf`?\n",
        "\n",
        "> *Answer the question by editing this text cell.*\n",
        "\n",
        "3. What is the **generated hash** of `out-Original.pdf` and `out-Tampered.pdf`?\n",
        "\n",
        "> *Answer the question by editing this text cell.*\n",
        "\n",
        "4. Do the hashes of `Original.pdf` and `Tampered.pdf` match? Why or why not?\n",
        "\n",
        "> *Answer the question by editing this text cell.*\n",
        "\n",
        "5. Do the hashes of `out-Original.pdf` and `out-Tampered.pdf` match? Why is this significant?\n",
        "\n",
        "> *Answer the question by editing this text cell.*\n",
        "\n",
        "6. Upload the file `out-Original.pdf` to Google Drive and generate a public shareable link.\n",
        "\n",
        "> *Answer the question by editing this text cell.*\n",
        "\n",
        "7. Upload the file `out-Tampered.pdf` to Google Drive and generate a public shareable link.\n",
        "\n",
        "> *Answer the question by editing this text cell.*"
      ],
      "metadata": {
        "id": "wACwZtYZm9w6"
      }
    },
    {
      "cell_type": "markdown",
      "source": [
        "---\n",
        "## This lab demonstrated how **two different files can have the same SHA-1 hash**, leading to a **collision attack**.\n",
        "\n",
        "## Since a tampered file can share the same digital fingerprint as the original, **forgery becomes possible.**\n",
        "\n",
        "## This highlights why **SHA-1 is no longer secure**, as it poses **risks for digital signatures and certificate authentication.**\n",
        "---"
      ],
      "metadata": {
        "id": "tOCbeQRem1AY"
      }
    },
    {
      "cell_type": "markdown",
      "source": [
        "## **Step 11: Save, Share, and Submit**\n",
        "\n",
        "1.   Save the notebook.\n",
        "2.   Share and set **General Access** to **\"Anyone with the link.\"**\n",
        "3.   Copy the link and submit it on Google Classroom."
      ],
      "metadata": {
        "id": "Zaq4U65dqMtr"
      }
    }
  ]
}